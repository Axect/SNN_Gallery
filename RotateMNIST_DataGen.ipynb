{
 "cells": [
  {
   "cell_type": "markdown",
   "id": "6e820c2a",
   "metadata": {},
   "source": [
    "## 1. Data Generation"
   ]
  },
  {
   "cell_type": "markdown",
   "id": "50b18034",
   "metadata": {},
   "source": [
    "### 1.1. Import Packages"
   ]
  },
  {
   "cell_type": "code",
   "execution_count": 1,
   "id": "9c9a0a0c",
   "metadata": {},
   "outputs": [],
   "source": [
    "# Numpy & Matplotlib\n",
    "import numpy as np\n",
    "import matplotlib.pyplot as plt\n",
    "\n",
    "# PyTorch\n",
    "import torch\n",
    "from torch import nn, optim\n",
    "from torch.utils.data import DataLoader\n",
    "from torchvision.datasets import MNIST\n",
    "import torchvision.transforms as transforms\n",
    "\n",
    "# Image & Progress Bar\n",
    "from PIL import Image\n",
    "from tqdm import tqdm"
   ]
  },
  {
   "cell_type": "code",
   "execution_count": 2,
   "id": "afdd88ef",
   "metadata": {},
   "outputs": [],
   "source": [
    "torch.manual_seed(333)\n",
    "np.random.seed(333)"
   ]
  },
  {
   "cell_type": "markdown",
   "id": "d41907c3",
   "metadata": {},
   "source": [
    "### 1.2. Define transform"
   ]
  },
  {
   "cell_type": "code",
   "execution_count": 3,
   "id": "a5610b50",
   "metadata": {},
   "outputs": [],
   "source": [
    "class MNISTtransform():\n",
    "    def __init__(self, rot: bool):\n",
    "        transform_vec = [\n",
    "            transforms.ToTensor(),\n",
    "            transforms.Normalize([0.1307], [0.3081]),\n",
    "        ]\n",
    "        self.rot = rot\n",
    "        if self.rot:\n",
    "            transform_vec.append(\n",
    "                transforms.RandomRotation([-180, 180])\n",
    "            )\n",
    "        \n",
    "        self.mnist_transform = transforms.Compose(transform_vec)\n",
    "        \n",
    "    def __call__(self, img):\n",
    "        trsf_img = self.mnist_transform(img)\n",
    "        if self.rot:\n",
    "            minimum = torch.min(trsf_img)\n",
    "            trsf_img[trsf_img == 0.0] = minimum\n",
    "        return trsf_img"
   ]
  },
  {
   "cell_type": "markdown",
   "id": "d1e3739f",
   "metadata": {},
   "source": [
    "### 1.3. Define Dataset"
   ]
  },
  {
   "cell_type": "code",
   "execution_count": 4,
   "id": "ecc60356",
   "metadata": {},
   "outputs": [],
   "source": [
    "download_root = '~/zdata' # Any Directory you want."
   ]
  },
  {
   "cell_type": "code",
   "execution_count": 5,
   "id": "70904bc9",
   "metadata": {},
   "outputs": [],
   "source": [
    "# For rotated train & rotated validation\n",
    "train_dataset_rot = MNIST(\n",
    "    download_root,\n",
    "    transform = MNISTtransform(rot=True),\n",
    "    train=True,\n",
    "    download=True\n",
    ")\n",
    "\n",
    "val_dataset = MNIST(\n",
    "    download_root,\n",
    "    transform=MNISTtransform(rot=True),\n",
    "    train=False,\n",
    "    download=True\n",
    ")"
   ]
  },
  {
   "cell_type": "code",
   "execution_count": 6,
   "id": "75596055",
   "metadata": {},
   "outputs": [],
   "source": [
    "# For original train & rotated validation\n",
    "train_dataset = MNIST(\n",
    "    download_root,\n",
    "    transform = MNISTtransform(rot=False),\n",
    "    train=True,\n",
    "    download=True\n",
    ")\n",
    "\n",
    "val_dataset = MNIST(\n",
    "    download_root,\n",
    "    transform = MNISTtransform(rot=True),\n",
    "    train=False,\n",
    "    download=True\n",
    ")"
   ]
  },
  {
   "cell_type": "markdown",
   "id": "5d000414",
   "metadata": {},
   "source": [
    "### 1.4. DataLoader"
   ]
  },
  {
   "cell_type": "code",
   "execution_count": 7,
   "id": "9675306b",
   "metadata": {},
   "outputs": [],
   "source": [
    "# For PyTorch DataLoader\n",
    "# If you use tensorflow, it's not necessary.\n",
    "\n",
    "batch_size = 256\n",
    "\n",
    "train_loader = DataLoader(\n",
    "    dataset=train_dataset,\n",
    "    batch_size=batch_size,\n",
    "    shuffle=True\n",
    ")\n",
    "\n",
    "val_loader = DataLoader(\n",
    "    dataset=val_dataset,\n",
    "    batch_size=batch_size,\n",
    ")"
   ]
  },
  {
   "cell_type": "markdown",
   "id": "327ffc04",
   "metadata": {},
   "source": [
    "### Example"
   ]
  },
  {
   "cell_type": "code",
   "execution_count": 8,
   "id": "dc8dfa47",
   "metadata": {},
   "outputs": [
    {
     "name": "stdout",
     "output_type": "stream",
     "text": [
      "7\n"
     ]
    },
    {
     "data": {
      "image/png": "[encoded data removed]",
      "text/plain": [
       "<Figure size 432x288 with 1 Axes>"
      ]
     },
     "metadata": {
      "needs_background": "light"
     },
     "output_type": "display_data"
    }
   ],
   "source": [
    "img, label = val_dataset[0]\n",
    "\n",
    "plt.imshow(img[0])\n",
    "print(label)"
   ]
  },
  {
   "cell_type": "code",
   "execution_count": 9,
   "id": "3382ff32",
   "metadata": {},
   "outputs": [
    {
     "data": {
      "text/plain": [
       "torch.Size([1, 28, 28])"
      ]
     },
     "execution_count": 9,
     "metadata": {},
     "output_type": "execute_result"
    }
   ],
   "source": [
    "img.shape # (Channel, Height, Width)"
   ]
  },
  {
   "cell_type": "markdown",
   "id": "429d4087",
   "metadata": {},
   "source": [
    "### 1.5. Data Convert to Numpy"
   ]
  },
  {
   "cell_type": "code",
   "execution_count": 10,
   "id": "2197605f",
   "metadata": {},
   "outputs": [],
   "source": [
    "def data_to_numpy(dataset):\n",
    "    data = np.array([\n",
    "        dataset[i][0].detach().numpy() for i in range(len(dataset))\n",
    "    ])\n",
    "    targets = dataset.targets.detach().numpy()\n",
    "    \n",
    "    return data, targets"
   ]
  },
  {
   "cell_type": "code",
   "execution_count": 11,
   "id": "8d9b0ab0",
   "metadata": {},
   "outputs": [],
   "source": [
    "train_data, train_targets = data_to_numpy(train_dataset)\n",
    "train_data_rot, train_targets_rot = data_to_numpy(train_dataset_rot)\n",
    "val_data, val_targets = data_to_numpy(val_dataset)"
   ]
  },
  {
   "cell_type": "code",
   "execution_count": 12,
   "id": "af80916f",
   "metadata": {},
   "outputs": [
    {
     "data": {
      "text/plain": [
       "(60000, 1, 28, 28)"
      ]
     },
     "execution_count": 12,
     "metadata": {},
     "output_type": "execute_result"
    }
   ],
   "source": [
    "train_data.shape"
   ]
  },
  {
   "cell_type": "code",
   "execution_count": 13,
   "id": "89db6ad7",
   "metadata": {},
   "outputs": [
    {
     "data": {
      "text/plain": [
       "(60000,)"
      ]
     },
     "execution_count": 13,
     "metadata": {},
     "output_type": "execute_result"
    }
   ],
   "source": [
    "train_targets.shape"
   ]
  },
  {
   "cell_type": "code",
   "execution_count": 14,
   "id": "ef163213",
   "metadata": {},
   "outputs": [
    {
     "data": {
      "text/plain": [
       "(10000, 1, 28, 28)"
      ]
     },
     "execution_count": 14,
     "metadata": {},
     "output_type": "execute_result"
    }
   ],
   "source": [
    "val_data.shape"
   ]
  },
  {
   "cell_type": "code",
   "execution_count": 15,
   "id": "7a85ddf1",
   "metadata": {},
   "outputs": [
    {
     "data": {
      "text/plain": [
       "(10000,)"
      ]
     },
     "execution_count": 15,
     "metadata": {},
     "output_type": "execute_result"
    }
   ],
   "source": [
    "val_targets.shape"
   ]
  },
  {
   "cell_type": "markdown",
   "id": "2a9df87d",
   "metadata": {},
   "source": [
    "### 1.6. Save Numpy Data"
   ]
  },
  {
   "cell_type": "code",
   "execution_count": 16,
   "id": "ef9f2568",
   "metadata": {},
   "outputs": [],
   "source": [
    "np.savez(\"train_data_rot\", train_data_rot, train_targets_rot)\n",
    "np.savez(\"train_data\", train_data, train_targets)\n",
    "np.savez(\"val_data\", val_data, val_targets)"
   ]
  },
  {
   "cell_type": "markdown",
   "id": "53788c86",
   "metadata": {},
   "source": [
    "### 1.7. Load Numpy Data"
   ]
  },
  {
   "cell_type": "code",
   "execution_count": 39,
   "id": "2d4cf8aa",
   "metadata": {},
   "outputs": [],
   "source": [
    "# Unrotated train data\n",
    "train_data, train_targets = list(\n",
    "    np.load(\"train_data.npz\").values()\n",
    ")\n",
    "\n",
    "# Rotated train data\n",
    "rtrain_data, rtrain_targets = list(\n",
    "    np.load(\"train_data_rot.npz\").values()\n",
    ")\n",
    "\n",
    "# Rotated validation data\n",
    "val_data, val_targets = list(\n",
    "    np.load(\"val_data.npz\").values()\n",
    ")"
   ]
  },
  {
   "cell_type": "code",
   "execution_count": 40,
   "id": "92ac127c",
   "metadata": {},
   "outputs": [
    {
     "data": {
      "text/plain": [
       "(60000, 1, 28, 28)"
      ]
     },
     "execution_count": 40,
     "metadata": {},
     "output_type": "execute_result"
    }
   ],
   "source": [
    "train_data.shape"
   ]
  },
  {
   "cell_type": "code",
   "execution_count": 41,
   "id": "83a920c4",
   "metadata": {},
   "outputs": [
    {
     "data": {
      "text/plain": [
       "(60000,)"
      ]
     },
     "execution_count": 41,
     "metadata": {},
     "output_type": "execute_result"
    }
   ],
   "source": [
    "train_targets.shape"
   ]
  },
  {
   "cell_type": "code",
   "execution_count": 45,
   "id": "0a730db0",
   "metadata": {},
   "outputs": [
    {
     "data": {
      "text/plain": [
       "(10000, 1, 28, 28)"
      ]
     },
     "execution_count": 45,
     "metadata": {},
     "output_type": "execute_result"
    }
   ],
   "source": [
    "val_data.shape"
   ]
  },
  {
   "cell_type": "code",
   "execution_count": 46,
   "id": "28fc5767",
   "metadata": {},
   "outputs": [
    {
     "data": {
      "text/plain": [
       "(10000,)"
      ]
     },
     "execution_count": 46,
     "metadata": {},
     "output_type": "execute_result"
    }
   ],
   "source": [
    "val_targets.shape"
   ]
  },
  {
   "cell_type": "code",
   "execution_count": 44,
   "id": "e33b30b5",
   "metadata": {},
   "outputs": [
    {
     "data": {
      "image/png": "[encoded data removed]",
      "text/plain": [
       "<Figure size 432x288 with 1 Axes>"
      ]
     },
     "metadata": {
      "needs_background": "light"
     },
     "output_type": "display_data"
    }
   ],
   "source": [
    "plt.imshow(val_data[0].transpose(1,2,0))\n",
    "plt.show()"
   ]
  },
  {
   "cell_type": "code",
   "execution_count": 48,
   "id": "9b838aa9",
   "metadata": {},
   "outputs": [
    {
     "data": {
      "image/png": "[encoded data removed]",
      "text/plain": [
       "<Figure size 432x288 with 1 Axes>"
      ]
     },
     "metadata": {
      "needs_background": "light"
     },
     "output_type": "display_data"
    }
   ],
   "source": [
    "plt.imshow(rtrain_data[0].transpose([1,2,0]))\n",
    "plt.show()"
   ]
  }
 ],
 "metadata": {
  "kernelspec": {
   "display_name": "Python 3 (ipykernel)",
   "language": "python",
   "name": "python3"
  },
  "language_info": {
   "codemirror_mode": {
    "name": "ipython",
    "version": 3
   },
   "file_extension": ".py",
   "mimetype": "text/x-python",
   "name": "python",
   "nbconvert_exporter": "python",
   "pygments_lexer": "ipython3",
   "version": "3.10.1"
  }
 },
 "nbformat": 4,
 "nbformat_minor": 5
}
