{
 "cells": [
  {
   "cell_type": "markdown",
   "id": "3a53b0bc",
   "metadata": {},
   "source": [
    "### Import Packages"
   ]
  },
  {
   "cell_type": "code",
   "execution_count": 1,
   "id": "7f591bca",
   "metadata": {},
   "outputs": [],
   "source": [
    "import numpy as np\n",
    "import matplotlib.pyplot as plt\n",
    "\n",
    "import os\n",
    "import os.path as osp"
   ]
  },
  {
   "cell_type": "markdown",
   "id": "53788c86",
   "metadata": {},
   "source": [
    "### Load Numpy Data"
   ]
  },
  {
   "cell_type": "markdown",
   "id": "38a4f659",
   "metadata": {},
   "source": [
    "We need below data files in current notebook's directory.\n",
    "\n",
    "* `train_data.npz`\n",
    "* `train_data_rot.npz`\n",
    "* `val_data.npz`\n",
    "\n",
    "If not, below code raises error!"
   ]
  },
  {
   "cell_type": "code",
   "execution_count": 2,
   "id": "67f9bc7a",
   "metadata": {},
   "outputs": [],
   "source": [
    "# Check Data\n",
    "files = [f for f in os.listdir('./') if osp.isfile(osp.join('./', f))]\n",
    "\n",
    "class DataPathError(Exception):\n",
    "    def __str__(self):\n",
    "        return \"Data files are not in proper directory!\"\n",
    "\n",
    "datalist = [\n",
    "    'train_data.npz',\n",
    "    'train_data_rot.npz',\n",
    "    'val_data.npz'\n",
    "]\n",
    "\n",
    "if not all(map(lambda data: data in files, datalist)):\n",
    "    raise DataPathError()"
   ]
  },
  {
   "cell_type": "code",
   "execution_count": 3,
   "id": "2d4cf8aa",
   "metadata": {},
   "outputs": [],
   "source": [
    "# Unrotated train data\n",
    "train_data, train_targets = list(\n",
    "    np.load(\"train_data.npz\").values()\n",
    ")\n",
    "\n",
    "# Rotated train data\n",
    "rtrain_data, rtrain_targets = list(\n",
    "    np.load(\"train_data_rot.npz\").values()\n",
    ")\n",
    "\n",
    "# Rotated validation data\n",
    "val_data, val_targets = list(\n",
    "    np.load(\"val_data.npz\").values()\n",
    ")"
   ]
  },
  {
   "cell_type": "code",
   "execution_count": 4,
   "id": "92ac127c",
   "metadata": {},
   "outputs": [
    {
     "data": {
      "text/plain": [
       "(60000, 1, 28, 28)"
      ]
     },
     "execution_count": 4,
     "metadata": {},
     "output_type": "execute_result"
    }
   ],
   "source": [
    "train_data.shape"
   ]
  },
  {
   "cell_type": "code",
   "execution_count": 5,
   "id": "83a920c4",
   "metadata": {},
   "outputs": [
    {
     "data": {
      "text/plain": [
       "(60000,)"
      ]
     },
     "execution_count": 5,
     "metadata": {},
     "output_type": "execute_result"
    }
   ],
   "source": [
    "train_targets.shape"
   ]
  },
  {
   "cell_type": "code",
   "execution_count": 6,
   "id": "0a730db0",
   "metadata": {},
   "outputs": [
    {
     "data": {
      "text/plain": [
       "(10000, 1, 28, 28)"
      ]
     },
     "execution_count": 6,
     "metadata": {},
     "output_type": "execute_result"
    }
   ],
   "source": [
    "val_data.shape"
   ]
  },
  {
   "cell_type": "code",
   "execution_count": 7,
   "id": "28fc5767",
   "metadata": {},
   "outputs": [
    {
     "data": {
      "text/plain": [
       "(10000,)"
      ]
     },
     "execution_count": 7,
     "metadata": {},
     "output_type": "execute_result"
    }
   ],
   "source": [
    "val_targets.shape"
   ]
  },
  {
   "cell_type": "markdown",
   "id": "5a5a3870",
   "metadata": {},
   "source": [
    "### Simple Usage"
   ]
  },
  {
   "cell_type": "code",
   "execution_count": 8,
   "id": "e33b30b5",
   "metadata": {},
   "outputs": [
    {
     "data": {
      "image/png": "[encoded data removed]",
      "text/plain": [
       "<Figure size 432x288 with 2 Axes>"
      ]
     },
     "metadata": {
      "needs_background": "light"
     },
     "output_type": "display_data"
    }
   ],
   "source": [
    "plt.imshow(val_data[0].transpose(1,2,0))\n",
    "plt.colorbar()\n",
    "plt.show()"
   ]
  },
  {
   "cell_type": "code",
   "execution_count": 9,
   "id": "9b838aa9",
   "metadata": {},
   "outputs": [
    {
     "data": {
      "image/png": "[encoded data removed]",
      "text/plain": [
       "<Figure size 432x288 with 2 Axes>"
      ]
     },
     "metadata": {
      "needs_background": "light"
     },
     "output_type": "display_data"
    }
   ],
   "source": [
    "plt.imshow(rtrain_data[0].transpose(1,2,0))\n",
    "plt.colorbar()\n",
    "plt.show()"
   ]
  }
 ],
 "metadata": {
  "kernelspec": {
   "display_name": "Python 3 (ipykernel)",
   "language": "python",
   "name": "python3"
  },
  "language_info": {
   "codemirror_mode": {
    "name": "ipython",
    "version": 3
   },
   "file_extension": ".py",
   "mimetype": "text/x-python",
   "name": "python",
   "nbconvert_exporter": "python",
   "pygments_lexer": "ipython3",
   "version": "3.9.9"
  }
 },
 "nbformat": 4,
 "nbformat_minor": 5
}
